{
 "cells": [
  {
   "cell_type": "code",
   "execution_count": 3,
   "id": "02e5478d",
   "metadata": {},
   "outputs": [
    {
     "name": "stdout",
     "output_type": "stream",
     "text": [
      "Program to print star pattern: \n",
      "\n",
      "Enter maximum stars you want display on a single line5\n",
      "* \n",
      "* * \n",
      "* * * \n",
      "* * * * \n",
      "* * * * * \n",
      "* * * * \n",
      "* * * \n",
      "* * \n",
      "* \n",
      "\n"
     ]
    }
   ],
   "source": [
    "# 1. Create the below pattern using nested for loop in Python.\n",
    "print(\"Program to print star pattern: \\n\");\n",
    "num_rows = input(\"Enter maximum stars you want display on a single line\")\n",
    "num_rows = int (num_rows)\n",
    "for i in range (0, num_rows):\n",
    "    for j in range(0, i + 1):\n",
    "        print(\"* \", end='')\n",
    "    print(\"\\r\")\n",
    "for i in range (num_rows, 0, -1):\n",
    "    for j in range(0, i -1):\n",
    "        print(\"* \", end='')\n",
    "    print(\"\\r\")"
   ]
  },
  {
   "cell_type": "code",
   "execution_count": 6,
   "id": "6ebf890c",
   "metadata": {},
   "outputs": [
    {
     "name": "stdout",
     "output_type": "stream",
     "text": [
      "Enter the Name of strineuron\n",
      "The original string is : ineuron\n",
      "The reversed string(using extended slice syntax) is : norueni\n"
     ]
    }
   ],
   "source": [
    "# 2. Write a Python program to reverse a word after accepting the input from the user.\n",
    "def reverse(string):\n",
    "    string = string[::-1]\n",
    "    return string\n",
    "  \n",
    "# s = \"Geeksforgeeks\"\n",
    "input_str =  input(\"Enter the Name of str\")  \n",
    "print(\"The original string is : \", end=\"\")\n",
    "print(input_str)\n",
    "  \n",
    "print(\"The reversed string(using extended slice syntax) is : \", end=\"\")\n",
    "print(reverse(input_str))"
   ]
  }
 ],
 "metadata": {
  "kernelspec": {
   "display_name": "Python 3 (ipykernel)",
   "language": "python",
   "name": "python3"
  },
  "language_info": {
   "codemirror_mode": {
    "name": "ipython",
    "version": 3
   },
   "file_extension": ".py",
   "mimetype": "text/x-python",
   "name": "python",
   "nbconvert_exporter": "python",
   "pygments_lexer": "ipython3",
   "version": "3.9.13"
  }
 },
 "nbformat": 4,
 "nbformat_minor": 5
}
